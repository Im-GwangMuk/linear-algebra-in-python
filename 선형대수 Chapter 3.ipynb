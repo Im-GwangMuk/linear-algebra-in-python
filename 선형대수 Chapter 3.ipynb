{
 "cells": [
  {
   "cell_type": "markdown",
   "metadata": {},
   "source": [
    " ## Chapter 3 Orthogonality"
   ]
  },
  {
   "cell_type": "markdown",
   "metadata": {},
   "source": [
    "### orthogonal vectors & Subspace"
   ]
  },
  {
   "cell_type": "markdown",
   "metadata": {},
   "source": [
    "왜 수직인 verctor들을 찾아야하나?\n",
    "\n",
    "- 독립적인 basis vector이기 때문이다.\n",
    "\n",
    "- 선형 결합으로 이루어져 있기때문에 계산하기 쉽다."
   ]
  },
  {
   "cell_type": "markdown",
   "metadata": {},
   "source": [
    "#### length of vectors ||x||"
   ]
  },
  {
   "cell_type": "markdown",
   "metadata": {},
   "source": [
    "벡터의 길이는 다음과 같다. \n",
    "\n",
    "$$||x||^2 =  X^TX = \\sum_{i=1}^n x_i^2$$"
   ]
  },
  {
   "cell_type": "markdown",
   "metadata": {},
   "source": [
    "위 공식과 피타고라스 정리로 수직인 두 벡터의 내적의 값을 증명할 수 있다."
   ]
  },
  {
   "attachments": {
    "image.png": {
     "image/png": "[encoded data removed]"
    }
   },
   "cell_type": "markdown",
   "metadata": {},
   "source": [
    "![image.png](attachment:image.png)"
   ]
  },
  {
   "cell_type": "markdown",
   "metadata": {},
   "source": [
    "위와 같이 벡터 x, y, y-x로 이루어진 직각 삼각형이 있을때, 피타고라스 공식을 쓰면,\n",
    "\n",
    "$$ ||y-x||^2 = ||x||^2 + ||y||^2 $$\n",
    "\n",
    "$$ (y-x)^T(y-x) = x^Tx+y^Ty $$\n",
    "\n",
    "$$ y^Ty - y^Tx - x^Ty + x^Tx = x^Tx + y^Ty $$\n",
    "\n",
    "$$x^Ty = y^Tx,  x^Ty=0 $$\n",
    "\n",
    "이와 같이 벡터 x와 y가 수직일 때 벡터 x,y의 내적의 값은 0이다"
   ]
  },
  {
   "cell_type": "markdown",
   "metadata": {},
   "source": [
    "#### $x^Ty$의 내적의 특징"
   ]
  },
  {
   "cell_type": "markdown",
   "metadata": {},
   "source": [
    "- $x^Ty$ = 0 -> angle = 90도\n",
    "\n",
    "- $x^Ty$ < 0 -> angle > 90도\n",
    "\n",
    "- $x^Ty$ > 0 -> angle < 90도"
   ]
  },
  {
   "cell_type": "markdown",
   "metadata": {},
   "source": [
    "#### 0이 아닌 벡터 $V_1,V_2,...,V_n$이 모두 수직 일 때"
   ]
  },
  {
   "cell_type": "markdown",
   "metadata": {},
   "source": [
    "$V_i^TV_j =0 (i\\neq j) \\\\ ||V_j|| \\neq 0$ \n",
    "\n",
    "위 두 조건을 만족하면,\n",
    "\n",
    "$C_1V_1 + C_2V_2 + ... + C_n V_n = 0 \\\\ C_1 = C_2 = ... = C_n = 0$\n",
    "\n",
    "이기 때문에 벡터 $V$들은 서로 선형독립이다.\n",
    "\n",
    "따라서 $V_i^T(C_1V_1 + C_2V_2 + ... + C_n V_n)=0$ 이고\n",
    "\n",
    "$C_i||V_i||^2 = 0 for \\forall i \\\\ 즉, C_i = 0 이다.$\n",
    "\n",
    "따라서 orthogonal vector들은  벡터공간을 span 하는 basis vector들 이고,\n",
    "\n",
    "$X = \\sum_{i=1}^n C_i V_i = V_i^TX =C_i||V_i||^2$ 를 만족하기 때문에\n",
    "\n",
    "orthonormal $||V_j||=1$ 이다."
   ]
  },
  {
   "cell_type": "markdown",
   "metadata": {},
   "source": [
    "#### Orthogonal Subspaces"
   ]
  },
  {
   "cell_type": "markdown",
   "metadata": {},
   "source": [
    "Subspace에 있는 하나의 벡터가 다른 Subspace에서의 벡터와 수직이면 나머지 모든 벡터도 수직이다."
   ]
  },
  {
   "cell_type": "markdown",
   "metadata": {},
   "source": [
    "#### Row Space $\\perp$ Null space"
   ]
  },
  {
   "cell_type": "markdown",
   "metadata": {},
   "source": [
    "Row Space $C(A^T)$와 Null space $X$는 언제나 서로 수직이다."
   ]
  },
  {
   "cell_type": "markdown",
   "metadata": {},
   "source": [
    "#### Column Space $\\perp$ Left null space"
   ]
  },
  {
   "cell_type": "markdown",
   "metadata": {},
   "source": [
    "Column Space $C(A)$와 Left Null space $y$는 언제나 서로 수직이다."
   ]
  },
  {
   "cell_type": "markdown",
   "metadata": {},
   "source": [
    "#### vector space를 span하는 독립 벡터들의 개수(vector space의 차원의 수)"
   ]
  },
  {
   "cell_type": "markdown",
   "metadata": {},
   "source": [
    "vector space $A_{m\\times n}$의 rank는 다음과 같다.\n",
    "\n",
    "- Dim(C(A)) + Dim(N($A^T$)) = m\n",
    "\n",
    "A의 column space의 차원수가 r 이고, $A^T$의 차원수가 m-r 이다.\n",
    "\n",
    "- Dim(C($A^T$)) + Dim(N(A)) = n\n",
    "\n",
    "A의 row space의 차원수가 r 이고, A의 Null space가 n-r 이다."
   ]
  },
  {
   "cell_type": "markdown",
   "metadata": {},
   "source": [
    "#### Orthogonal Complement Subspace"
   ]
  },
  {
   "cell_type": "markdown",
   "metadata": {},
   "source": [
    "$v \\in V, w\\in W$ in $R^n$ 일 때,\n",
    "\n",
    "벡터 v와 w가 $v \\perp w$ orthogonal subspace이면\n",
    "\n",
    "벡터 v와 w의 차원수의 합은 n이다."
   ]
  },
  {
   "cell_type": "markdown",
   "metadata": {},
   "source": [
    "- orthogonal subspace $\\neq$ orthogonal complement subspace"
   ]
  },
  {
   "cell_type": "markdown",
   "metadata": {},
   "source": [
    "### Cosines and Projctions onto lines"
   ]
  },
  {
   "attachments": {
    "image.png": {
     "image/png": "[encoded data removed]"
    }
   },
   "cell_type": "markdown",
   "metadata": {},
   "source": [
    "![image.png](attachment:image.png)"
   ]
  },
  {
   "cell_type": "markdown",
   "metadata": {},
   "source": [
    "위 와 같은 그림이 있을 때, cosines 제 2법칙을 이용하면, \n",
    "\n",
    "$$||b-a||^2 = ||a||^2 + ||b||^2 - 2||a|| ||b||cos\\theta$$\n",
    "\n",
    "\n",
    "$$(b-a)^T(b-a) = a^Ta + b^Tb-2||a||||b||cos\\theta$$\n",
    "\n",
    "\n",
    "$$a^Tb = ||a||||b||cos\\theta$$"
   ]
  },
  {
   "cell_type": "markdown",
   "metadata": {},
   "source": [
    "가 되고, 즉, 벡터 a와 b의 내적은 a의길이, b의길이, 두 벡터가 이루는 각의 cosine 값의 곱이 된다."
   ]
  },
  {
   "cell_type": "markdown",
   "metadata": {},
   "source": [
    "위 식의 의미는 두 벡터의 a, b의 내적은 서로 다른 벡터에 projection 한다고 할 수 있다."
   ]
  },
  {
   "attachments": {
    "image-2.png": {
     "image/png": "[encoded data removed]"
    }
   },
   "cell_type": "markdown",
   "metadata": {},
   "source": [
    "![image-2.png](attachment:image-2.png)"
   ]
  },
  {
   "cell_type": "markdown",
   "metadata": {},
   "source": [
    "projection(사영)을 위와 같은 그림으로 나타 낼수 있는데, 벡터 p와 a는 서로 수직이기 때문에 사영의 길이 $\\hat{x}$ 는 다음과 같이 증명이 가능하다."
   ]
  },
  {
   "cell_type": "markdown",
   "metadata": {},
   "source": [
    "$$(b-\\hat{x}a) \\perp a \\\\ a^T(b-\\hat{x}a) = 0 \\\\ \\hat{x} = {a^Tb\\over a^Ta}$$"
   ]
  },
  {
   "cell_type": "markdown",
   "metadata": {},
   "source": [
    "여기서, $p=\\hat{x}a = {aa^T \\over a^Ta}$ 이고, $p^2 = {aa^Taa^T \\over (a^Ta)(a^Ta)} = {aa^T \\over a^Ta} = p$ 이다.\n",
    "\n",
    "수학적으로, 어떠한 수를 거듭제곱해서 자기자신이 되는 모든 수를 사영한다고 한다."
   ]
  },
  {
   "cell_type": "markdown",
   "metadata": {},
   "source": [
    "### Projections and Least Squares"
   ]
  },
  {
   "cell_type": "markdown",
   "metadata": {},
   "source": [
    "식이 미지수의 개수 보다많은 경우($A_{m \\times n} 에서 m>n인 경우$) $||Ax-b||$^2가 최소가되는 값을 찾아야한다. 이러한 방법을 Least Square method라고 한다."
   ]
  },
  {
   "attachments": {
    "image.png": {
     "image/png": "[encoded data removed]"
    }
   },
   "cell_type": "markdown",
   "metadata": {},
   "source": [
    "![image.png](attachment:image.png)"
   ]
  },
  {
   "cell_type": "markdown",
   "metadata": {},
   "source": [
    "위 그림처럼 $Ax \\neq b$이기 때문에 $A$의 Column Space안에 b가 존재하지 않는다. 따라서 벡터 $A\\hat{x}$에서 b에 가장근접한 값, 즉, $b$와 수직이 되는 벡터를 찾아야 한다."
   ]
  },
  {
   "cell_type": "markdown",
   "metadata": {},
   "source": [
    "즉, 벡터 $b-A\\hat{x} \\perp a_i$(A의 column vectors)를 만족하는 b인 것이다. 이 식을 모든 n에 대해서 나열하면\n",
    "\n",
    "$$a_1^T(b-A\\hat{x}) = 0$$\n",
    "$$a_2^T(b-A\\hat{x}) = 0$$\n",
    "$$a_3^T(b-A\\hat{x}) = 0$$\n",
    "$$\\vdots$$\n",
    "$$a_n^T(b-A\\hat{x}) = 0$$"
   ]
  },
  {
   "cell_type": "markdown",
   "metadata": {},
   "source": [
    "위와 같이 되는데 이를 일반화 하면\n",
    "\n",
    "$$ A^T(b-A\\hat{x}) = 0 $$"
   ]
  },
  {
   "cell_type": "markdown",
   "metadata": {},
   "source": [
    "가 된다. "
   ]
  },
  {
   "cell_type": "markdown",
   "metadata": {},
   "source": [
    "즉,"
   ]
  },
  {
   "cell_type": "markdown",
   "metadata": {},
   "source": [
    "$$A^TA\\hat{x} = A^Tb \\\\\n",
    "\\hat{x} = (A^TA)^{-1}A^Tb \\\\\n",
    "p = A\\hat{x} = A(A^TA)^{-1}A^{T}b$$"
   ]
  },
  {
   "cell_type": "markdown",
   "metadata": {},
   "source": [
    "가 된다. 이때 $A^TA$가 존재하면 해를 쉽게 구할수 있다. 이때의 값을 best estimate라고 한다."
   ]
  },
  {
   "cell_type": "markdown",
   "metadata": {},
   "source": [
    "Example 1) $A=\\begin{bmatrix} 1&2 \\\\ 1&3 \\\\ 0&0 \\end{bmatrix}$, $b = \\begin{bmatrix} 4 \\\\ 5 \\\\ 6 \\end{bmatrix}$를 $x-y$ plane에 투영하면 다음과 같이 된다. "
   ]
  },
  {
   "attachments": {
    "image.png": {
     "image/png": "[encoded data removed]"
    }
   },
   "cell_type": "markdown",
   "metadata": {},
   "source": [
    "![image.png](attachment:image.png)"
   ]
  },
  {
   "cell_type": "markdown",
   "metadata": {},
   "source": [
    "행렬 A를 구성하는 column vector들이 서로 선형 독립이기 때문에 $A^TA$의 역행력 값을 구할 수 있다. 따라서 P의 값은 아래와 같다."
   ]
  },
  {
   "cell_type": "markdown",
   "metadata": {},
   "source": [
    "$$A^TA = \\begin{bmatrix} 1&1&0 \\\\ 2&3&0 \\end{bmatrix}\\begin{bmatrix} 1&2 \\\\ 1&3 \\\\ 0&0 \\end{bmatrix}=\\begin{bmatrix} 2&5 \\\\ 5&13 \\end{bmatrix}$$\n",
    "\n",
    "$$P = A(A^TA)^{-1}A^T $$\n",
    "$$= \\begin{bmatrix} 1&2 \\\\ 1&3 \\\\ 0&0 \\end{bmatrix}\\begin{bmatrix} 13&-5 \\\\ -5&2 \\end{bmatrix}\\begin{bmatrix} 1&1&0 \\\\ 2&3&0 \\end{bmatrix}$$\n",
    "\n",
    "$$Pb = \\begin{bmatrix} 4 \\\\ 5 \\\\ 0 \\end{bmatrix}$$"
   ]
  },
  {
   "cell_type": "markdown",
   "metadata": {},
   "source": [
    "#### Least Square for line fitting"
   ]
  },
  {
   "attachments": {
    "image.png": {
     "image/png": "[encoded data removed]"
    }
   },
   "cell_type": "markdown",
   "metadata": {},
   "source": [
    "![image.png](attachment:image.png)"
   ]
  },
  {
   "cell_type": "markdown",
   "metadata": {},
   "source": [
    "위와 같은 세 점이 존재할 때, 세 점을 동시에 지나는 직선은 존재 하지 않는다. $y=ax+b$의 형태의 식에 각 점의 값들을 대입하면,\n",
    "\n",
    "$$y_1 = ax_1+b$$\n",
    "$$y_2 = ax_2+b$$\n",
    "$$y_3 = ax_3+b$$\n",
    "$$\\vdots$$\n",
    "$$y_n = ax_n+b$$"
   ]
  },
  {
   "cell_type": "markdown",
   "metadata": {},
   "source": [
    "가 되고 행렬로 나타내면,\n",
    "\n",
    "$$\\begin{bmatrix} x_1 & 1 \\\\ x_2 & 1 \\\\ x_3 & 1 \\\\ \\vdots \\\\ x_n & 1\\end{bmatrix} \\begin{bmatrix} a \\\\ b \\end{bmatrix} = \\begin{bmatrix} y_1 \\\\ y_2 \\\\ \\vdots \\\\ y_n \\end{bmatrix}$$\n",
    "\n",
    "이와 같이 Ax=b 꼴로 나타낼 수 있다. 따라서, $||Ax-b||^2$를 정확하게 구하기 힘들기 때문에 $min||Ax-b||^2$ 값을 구해야 한다."
   ]
  },
  {
   "cell_type": "markdown",
   "metadata": {},
   "source": [
    "$Ax-b = \\begin{bmatrix} ax_1+b-y_1 \\\\ ax_2+b-y_2 \\\\ \\vdots \\\\ ax_n+b-y_n \\end{bmatrix} = \\sum_{i=1}^n (ax_i+b-y_i)^2$ 이고 그림으로 나타내면 아래와 같다."
   ]
  },
  {
   "attachments": {
    "image-2.png": {
     "image/png": "[encoded data removed]"
    }
   },
   "cell_type": "markdown",
   "metadata": {},
   "source": [
    "![image-2.png](attachment:image-2.png)"
   ]
  },
  {
   "cell_type": "markdown",
   "metadata": {},
   "source": [
    "즉,$min||Ax-b||^2$은 파란점선이 최소가 되는 직선을 찾는 것이다."
   ]
  },
  {
   "cell_type": "markdown",
   "metadata": {},
   "source": [
    "#### Grom-Schmidit Orthogonalization"
   ]
  },
  {
   "cell_type": "markdown",
   "metadata": {},
   "source": [
    "만약 서로 독립적인 벡터 $a_1,a_2,a_3,...$이 주어져 있으면 Grom-Schmidit Orthogonalization 방법을 이용하여 서로 수직이면서 크기가 1인 basis vector들을 구할 수 있다. Grom-Schmidit Orthogonalization 방법은 다음과 같다."
   ]
  },
  {
   "attachments": {
    "image.png": {
     "image/png": "[encoded data removed]"
    }
   },
   "cell_type": "markdown",
   "metadata": {},
   "source": [
    "![image.png](attachment:image.png)"
   ]
  },
  {
   "cell_type": "markdown",
   "metadata": {},
   "source": [
    "1) 그림과 같이 벡터 a,b가 주어져 있을 때, 벡터 a에 대하여 크기가 1로 만들어 주는 normalization을 하고 $q_1$을 만들어 준다.\n",
    "\n",
    "$$a \\rightarrow {a \\over ||a||} = q_1$$"
   ]
  },
  {
   "cell_type": "markdown",
   "metadata": {},
   "source": [
    "2) 벡터 b를 $q_1$에 project(사영) 한다."
   ]
  },
  {
   "attachments": {
    "image.png": {
     "image/png": "[encoded data removed]"
    }
   },
   "cell_type": "markdown",
   "metadata": {},
   "source": [
    "![image.png](attachment:image.png)"
   ]
  },
  {
   "cell_type": "markdown",
   "metadata": {},
   "source": [
    "project를 한 벡터는 \n",
    "\n",
    "$${q_1^Tb \\over q_1^Tq_1}q_1$$\n",
    "\n",
    "\n",
    "\n",
    "이 되고, q_1은 크기가 1인 벡터이기 때문에 $q_1^Tq_1=1$ 이다. 따라서 $(q_1^Tb)q_1$만 남게 된다."
   ]
  },
  {
   "cell_type": "markdown",
   "metadata": {},
   "source": [
    "그러면 $$b-(q_1^Tb)q_1 \\perp q_1$$인것을 확인 할 수 있다."
   ]
  },
  {
   "attachments": {
    "image.png": {
     "image/png": "[encoded data removed]"
    }
   },
   "cell_type": "markdown",
   "metadata": {},
   "source": [
    "![image.png](attachment:image.png)"
   ]
  },
  {
   "cell_type": "markdown",
   "metadata": {},
   "source": [
    "3) 벡터 $b-(q_1^Tb)q_1$에 대하여 크기가 1로 만들어 주는 normalization을 한 $q_2$ 벡터를 만들어 준다."
   ]
  },
  {
   "cell_type": "markdown",
   "metadata": {},
   "source": [
    "$${b-(q_1^Tb)q_1 \\over ||b-(q_1^Tb)q_1||} = q_2$$"
   ]
  },
  {
   "cell_type": "markdown",
   "metadata": {},
   "source": [
    "4) $q_2$벡터에 b 벡터를 사영한다."
   ]
  },
  {
   "attachments": {
    "image.png": {
     "image/png": "[encoded data removed]"
    }
   },
   "cell_type": "markdown",
   "metadata": {},
   "source": [
    "![image.png](attachment:image.png)"
   ]
  },
  {
   "cell_type": "markdown",
   "metadata": {},
   "source": [
    "그러면 vector b는 평행사변형법을 이용하여 계산할 수 있다."
   ]
  },
  {
   "cell_type": "markdown",
   "metadata": {},
   "source": [
    "$$b =(q_1^Tb)q_1+(q_2^Tb)q_2$$"
   ]
  },
  {
   "cell_type": "markdown",
   "metadata": {},
   "source": [
    "Grom-Schmidit Orthogonalization 방법을 다시 정리하면 다음과 같다.\n",
    "\n",
    "서로 독립인 벡터 $a_1,a_2,...a_n$이 있을 때, 다음순서를 이용하여 푼다.\n",
    "\n",
    "1) $q_1 = {a \\over ||a||}$\n",
    "\n",
    "2) $a_j - \\sum_{j=1}^{i-1}(q_i^Ta_j)q_j $\n",
    "\n",
    "3) ${A_j \\over ||A_j||} = q_j$\n",
    "\n",
    "q의 개수가 차원수만큼 나올 때 까지 2번과 3번을 반복한다.\n",
    "\n",
    "최종적으로 $a_j = \\sum_{i=1}^j(q_i^Ta_j)q_i$를 구하게 된다.\n",
    "\n",
    "코드로 구현하면 다음과 같다."
   ]
  },
  {
   "cell_type": "code",
   "execution_count": 9,
   "metadata": {},
   "outputs": [
    {
     "data": {
      "text/plain": [
       "array([[ 1.00000000e+00, -3.12693935e-16, -3.84592537e-16,\n",
       "        -1.38777878e-17,  0.00000000e+00, -5.12790050e-16],\n",
       "       [-3.12693935e-16,  1.00000000e+00,  1.41308321e-15,\n",
       "         1.11022302e-16,  6.28036983e-16,  6.28036983e-16],\n",
       "       [-3.84592537e-16,  1.41308321e-15,  2.21867130e-30,\n",
       "         1.02786679e-16,  8.87468518e-31,  1.13398755e-30],\n",
       "       [-1.38777878e-17,  1.11022302e-16,  1.02786679e-16,\n",
       "         1.00000000e+00,  7.39557099e-32,  6.85244528e-17],\n",
       "       [ 0.00000000e+00,  6.28036983e-16,  8.87468518e-31,\n",
       "         7.39557099e-32,  3.94430453e-31,  3.94430453e-31],\n",
       "       [-5.12790050e-16,  6.28036983e-16,  1.13398755e-30,\n",
       "         6.85244528e-17,  3.94430453e-31,  6.90253292e-31]])"
      ]
     },
     "execution_count": 9,
     "metadata": {},
     "output_type": "execute_result"
    }
   ],
   "source": [
    "import numpy as np\n",
    "\n",
    "def gram_schmidt(X):\n",
    "    O = np.zeros(X.shape)\n",
    "    for i in range(X.shape[1]):\n",
    "        # orthogonalization\n",
    "        vector = X[:, i]\n",
    "        space = O[:, :i]\n",
    "        projection = vector @ space\n",
    "        vector = vector - np.sum(projection * space, axis=1)\n",
    "        # normalization\n",
    "        norm = np.sqrt(vector @ vector)\n",
    "        vector /= abs(norm) < 1e-8 and 1 or norm\n",
    "        \n",
    "        O[:, i] = vector\n",
    "    return O\n",
    "\n",
    "vectors = np.array([\n",
    "    [1, 1, 2, 0, 1, 1],\n",
    "    [0, 0, 0, 1, 2, 1],\n",
    "    [1, 2, 3, 1, 3, 2],\n",
    "    [1, 0, 1, 0, 1, 1]\n",
    "    ], dtype=float)\n",
    "orthonormal = gram_schmidt(vectors)\n",
    "\n",
    "orthonormal.T @ orthonormal"
   ]
  },
  {
   "cell_type": "markdown",
   "metadata": {},
   "source": [
    "#### Orthogonal Basis"
   ]
  },
  {
   "cell_type": "markdown",
   "metadata": {},
   "source": [
    "서로 직교 하는 벡터들을 가지고 벡터공간을 span하는것을 Orthogonal Basis라고 한다."
   ]
  },
  {
   "cell_type": "markdown",
   "metadata": {},
   "source": [
    "$q_1,q_2,...,q_n$이 orthonormal(서로 수직이면서 크기가 1이다.) 한다고 하자."
   ]
  },
  {
   "attachments": {
    "image.png": {
     "image/png": "[encoded data removed]"
    }
   },
   "cell_type": "markdown",
   "metadata": {},
   "source": [
    "![image.png](attachment:image.png)"
   ]
  },
  {
   "cell_type": "markdown",
   "metadata": {},
   "source": [
    "열벡터 $q$들로 만든 행렬을 Q라고 했을때, $Q^TQ = I \\Rightarrow Q^T=Q^{-1}$를 만족한다. 즉, $Q^T$ 는 Q의 left-inverse이다."
   ]
  },
  {
   "cell_type": "markdown",
   "metadata": {},
   "source": []
  },
  {
   "cell_type": "code",
   "execution_count": null,
   "metadata": {},
   "outputs": [],
   "source": []
  },
  {
   "cell_type": "code",
   "execution_count": null,
   "metadata": {},
   "outputs": [],
   "source": []
  },
  {
   "cell_type": "markdown",
   "metadata": {},
   "source": [
    "### Function Space(Hilbert Space)"
   ]
  },
  {
   "cell_type": "markdown",
   "metadata": {},
   "source": [
    "Function Space는 벡터 공간을 여러가지 성질을 함수공간에 확장 하는것이다. n차원의 Vector Space를 무한차원의 Hilbert Space로 확장하는 것이다. 즉, 무리수같은 real number공간들도 생각해서 vector space를 생각해본다는 것이다."
   ]
  },
  {
   "cell_type": "markdown",
   "metadata": {},
   "source": [
    "다음과 같이 구간이 정해져있는 함수들의 공간이 존재할 때,\n",
    "\n",
    "$$x(t),y(t) \\in \\mathcal{H}\\ a \\le t \\le b$$ "
   ]
  },
  {
   "cell_type": "markdown",
   "metadata": {},
   "source": [
    "다음과 같은 성질을 만족한다."
   ]
  },
  {
   "cell_type": "markdown",
   "metadata": {},
   "source": [
    "- $x(t)+y \\in \\mathcal{H}$ (덧셈에 닫혀있다.)\n",
    "\n",
    "- $\\alpha x(t) \\in \\mathcal{H}$ (곱셈에 닫혀있다.)"
   ]
  },
  {
   "cell_type": "markdown",
   "metadata": {},
   "source": [
    "#### 1) space 표현\n",
    "\n",
    "vector space를 다음과 같이 표현할 수 있으면, Vector : $V = (v_1,v_2,...,v_n)^T$ \n",
    "\n",
    "Hilbert Space는 다음과 같이 표현한다. $lim_{\\Delta t \\to 0} x(t) = (x(a),x(a+\\Delta t),x(a+2\\Delta t),...,x(b))^T \\to x(t) \\in R^\\infty$"
   ]
  },
  {
   "cell_type": "markdown",
   "metadata": {},
   "source": [
    "#### 2) 내적 표현"
   ]
  },
  {
   "cell_type": "markdown",
   "metadata": {},
   "source": [
    "vector inner product\n",
    "\n",
    "$$x^Ty= \\sum_{i=1}^n x_iy_i$$\n",
    "\n",
    "function inner product \n",
    "\n",
    "$$(x(t),y(t)) =lim_{\\Delta t \\to 0}\\sum_{k=0}^\\infty x(a+k\\Delta t)y(a+k\\Delta t) \\\\\n",
    "=\\int_a^b x(t)y(t)dt \\\\\n",
    "=||x(t)||^2 = \\int_a^b x^2(t)dt$$"
   ]
  },
  {
   "cell_type": "markdown",
   "metadata": {},
   "source": [
    "#### 3) orthogonality"
   ]
  },
  {
   "cell_type": "markdown",
   "metadata": {},
   "source": [
    "vetor\n",
    "\n",
    "$$X^Ty =0$$\n",
    "\n",
    "function\n",
    "\n",
    "$$(x(t),y(t))=\\int_a^b x(t)y(t)dt=0$$\n"
   ]
  },
  {
   "cell_type": "markdown",
   "metadata": {},
   "source": [
    "#### 4)  Basis\n",
    "\n",
    "vector\n",
    "\n",
    "$$X=\\sum_{i=1}^na_iv_i$$\n",
    "\n",
    "function\n",
    "\n",
    "$$x(t)=\\sum_{i=1}^\\infty a_ib_i(t)$$\n",
    "\n",
    "vector 공간에서는 basis들의 합성곱을 선형결합이라고 하지만 function  공간에서는 Series 라고한다."
   ]
  },
  {
   "cell_type": "markdown",
   "metadata": {},
   "source": [
    "#### 5) $a_i$ 구하는법(Grom-Schmidit Orthogonalization)"
   ]
  },
  {
   "cell_type": "markdown",
   "metadata": {},
   "source": [
    "vector\n",
    "\n",
    "$$\\sum_{i=1}^n(g_i^Ta)g_i$$\n",
    "\n",
    "functioon\n",
    "\n",
    "$$\\sum_{i=1}^\\infty (g_i(t),x(t))g_i(t)$$\n",
    "\n",
    "벡터 공간처럼 함수공간도 $a_i$의 series coefficients 값들은 unique하다."
   ]
  }
 ],
 "metadata": {
  "kernelspec": {
   "display_name": "Python 3",
   "language": "python",
   "name": "python3"
  },
  "language_info": {
   "codemirror_mode": {
    "name": "ipython",
    "version": 3
   },
   "file_extension": ".py",
   "mimetype": "text/x-python",
   "name": "python",
   "nbconvert_exporter": "python",
   "pygments_lexer": "ipython3",
   "version": "3.7.10"
  }
 },
 "nbformat": 4,
 "nbformat_minor": 4
}
