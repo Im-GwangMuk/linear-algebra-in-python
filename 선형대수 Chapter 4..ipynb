{
 "cells": [
  {
   "cell_type": "markdown",
   "metadata": {},
   "source": [
    "## Chapter 4. Determinats"
   ]
  },
  {
   "cell_type": "markdown",
   "metadata": {},
   "source": [
    "$n\\times n$의 정사각행렬 $A$의 determinate는 $det(A)$ 라고 쓴다. "
   ]
  },
  {
   "cell_type": "markdown",
   "metadata": {},
   "source": [
    "#### some important propertries of $det (A)$"
   ]
  },
  {
   "cell_type": "markdown",
   "metadata": {},
   "source": [
    "1) 행렬 A의 역행렬이 존재할 때, $det(A)$가 존재한다."
   ]
  },
  {
   "cell_type": "markdown",
   "metadata": {},
   "source": [
    "2) $det(A)$는 n차원의 공간에서의 volume과 동일하다.\n",
    "\n",
    "- ex) 3차원공간의 벡터 $a_1,a_2,a_3$ 가 존재할때 a의 열벡터로 구성된 행렬 A의  $det(A)$는 육면체의 volume을 나타낸다."
   ]
  },
  {
   "cell_type": "markdown",
   "metadata": {},
   "source": [
    "3) $det(A)$ = product of pivots"
   ]
  },
  {
   "cell_type": "markdown",
   "metadata": {},
   "source": [
    "4) Cramer's Rule"
   ]
  },
  {
   "cell_type": "markdown",
   "metadata": {},
   "source": [
    "다음과 같이 $Ax=b$가 존재할 때"
   ]
  },
  {
   "attachments": {
    "image.png": {
     "image/png": "[encoded data removed]"
    }
   },
   "cell_type": "markdown",
   "metadata": {},
   "source": [
    "![image.png](attachment:image.png)"
   ]
  },
  {
   "cell_type": "markdown",
   "metadata": {},
   "source": [
    "$x_i$의 값은 $$x_i = {det(A_i) \\over det(A)}$$"
   ]
  },
  {
   "cell_type": "markdown",
   "metadata": {},
   "source": [
    "이와 같은 공식으로 구할 수 있고, 여기서 $A_i$는 다음과 같다."
   ]
  },
  {
   "attachments": {
    "image.png": {
     "image/png": "[encoded data removed]"
    }
   },
   "cell_type": "markdown",
   "metadata": {},
   "source": [
    "![image.png](attachment:image.png)"
   ]
  },
  {
   "cell_type": "markdown",
   "metadata": {},
   "source": [
    "- Example"
   ]
  },
  {
   "cell_type": "markdown",
   "metadata": {},
   "source": [
    "다음과 같은 두 연립방적식에서 Cramer's Rule을 이용하여 x,y를 구하는 방법"
   ]
  },
  {
   "cell_type": "markdown",
   "metadata": {},
   "source": [
    "$$x+y =3  \\\\ 2x-y =3$$"
   ]
  },
  {
   "cell_type": "markdown",
   "metadata": {},
   "source": [
    "위 방정식을 행렬로 표현한다."
   ]
  },
  {
   "cell_type": "markdown",
   "metadata": {},
   "source": [
    "$$\\begin{bmatrix} 1& 1 \\\\ 2 & -1 \\end{bmatrix} \\begin{bmatrix} x \\\\ y \\end{bmatrix} = \\begin{bmatrix} 3 \\\\ 3 \\end{bmatrix}$$"
   ]
  },
  {
   "cell_type": "markdown",
   "metadata": {},
   "source": [
    "x를 구한다."
   ]
  },
  {
   "cell_type": "markdown",
   "metadata": {},
   "source": [
    "$$x={\\begin{bmatrix} 3& 1 \\\\ 3 & -1 \\end{bmatrix}\\over det(A)} = {-6 \\over -3} =2$$"
   ]
  },
  {
   "cell_type": "markdown",
   "metadata": {},
   "source": [
    "y를 구한다."
   ]
  },
  {
   "cell_type": "markdown",
   "metadata": {},
   "source": [
    "$$y = {\\begin{bmatrix} 1& 3 \\\\ 2 & 3 \\end{bmatrix} \\over -3} = {-3 \\over -3 }= 1$$"
   ]
  },
  {
   "cell_type": "markdown",
   "metadata": {},
   "source": [
    "#### Properties of Determinant"
   ]
  },
  {
   "cell_type": "markdown",
   "metadata": {},
   "source": [
    "Determinant의 특성들을 $2\\times 2$ matrix로 살펴보고 $n\\times n$ matrix로 한번 확인해보자."
   ]
  },
  {
   "cell_type": "markdown",
   "metadata": {},
   "source": [
    "$$det(\\begin{bmatrix} a& b \\\\ c & d \\end{bmatrix})\\triangleq ad-bc$$"
   ]
  },
  {
   "cell_type": "markdown",
   "metadata": {},
   "source": [
    "1) $det(I) = 1$"
   ]
  },
  {
   "cell_type": "markdown",
   "metadata": {},
   "source": [
    "2) $det(A)$는 두개의 행이 바뀔때(interchanged) 부호가 바뀐다.\n",
    "\n",
    "- interchanged가 일어난 횟수가 홀수번이면 부호가 반대\n",
    "\n",
    "- interchanged가 일어난 횟수가 짝수번이면 부호가 그대로"
   ]
  },
  {
   "cell_type": "markdown",
   "metadata": {},
   "source": [
    "3) det(A) 는 첫번째 행에 대하여 linearly dependent하다."
   ]
  },
  {
   "cell_type": "markdown",
   "metadata": {},
   "source": [
    "$$\\begin{vmatrix} a+a^{'} & b+b^{'} \\\\ c & d \\end{vmatrix} = \\begin{vmatrix} a & b \\\\ c & d \\end{vmatrix} + \\begin{vmatrix} a^{'} & b^{'} \\\\ c & d \\end{vmatrix}$$"
   ]
  },
  {
   "cell_type": "markdown",
   "metadata": {},
   "source": [
    "- prof) \n",
    "\n",
    "$$(a+a^{'})d-(b+b^{'})c = (ad-bc) + (a^{'}d-b^{'}c)$$"
   ]
  },
  {
   "cell_type": "markdown",
   "metadata": {},
   "source": [
    "위 등호를 풀어보면 좌변과 우변이 같아지는것을 알 수 있다."
   ]
  },
  {
   "cell_type": "markdown",
   "metadata": {},
   "source": [
    "- Example)\n",
    "\n"
   ]
  },
  {
   "cell_type": "markdown",
   "metadata": {},
   "source": [
    "$$\\begin{vmatrix} a & b \\\\ c & d \\end{vmatrix} = \\begin{vmatrix} a & 0 \\\\ c & d \\end{vmatrix}+\\begin{vmatrix} 0 & b \\\\ c & d \\end{vmatrix}$$"
   ]
  },
  {
   "cell_type": "markdown",
   "metadata": {},
   "source": [
    "위 등호도 풀어보면 좌변과 우변이 같아지는 것을 확인 할 수 있다."
   ]
  },
  {
   "cell_type": "markdown",
   "metadata": {},
   "source": [
    "4) $det(tA_{n\\times n}) = t^ndet(A)$"
   ]
  },
  {
   "cell_type": "markdown",
   "metadata": {},
   "source": [
    "5) 어떠한 행렬 $A$ 에서 두개의 행이 같으면 $det(A)=0$ 이다."
   ]
  },
  {
   "cell_type": "markdown",
   "metadata": {},
   "source": [
    "6) Row operations do not change the determinant"
   ]
  },
  {
   "cell_type": "markdown",
   "metadata": {},
   "source": [
    "- 예를들어 가우스소거법에서 행끼리의 연산을 통해 상삼각행렬을 만들어 주는데 행끼리 이런 연산을 해도 determinant는 일정하다."
   ]
  },
  {
   "cell_type": "markdown",
   "metadata": {},
   "source": [
    "7) 만약 0 으로만 된 행이 존재하면 $det(A)=0$ 이다."
   ]
  },
  {
   "cell_type": "markdown",
   "metadata": {},
   "source": [
    "8) 만약 행렬 A가 삼각행렬이면 $det(A)$는 대각원소들의 곱으로 구할 수 있다."
   ]
  },
  {
   "cell_type": "markdown",
   "metadata": {},
   "source": [
    "9) 어떤 행렬 A가 singular면 $det(A)=0$ 이고, non-singular면 $det(A)\\neq0 이다.$"
   ]
  },
  {
   "cell_type": "markdown",
   "metadata": {},
   "source": [
    "10) $det(AB) = det(A)det(B)$ 이다."
   ]
  },
  {
   "cell_type": "markdown",
   "metadata": {},
   "source": [
    "11) $det(A^T) = det(A) 이다.$"
   ]
  },
  {
   "cell_type": "markdown",
   "metadata": {},
   "source": [
    "#### Determinant formula"
   ]
  },
  {
   "cell_type": "markdown",
   "metadata": {},
   "source": [
    "pivoting이 필요하지 않을 경우\n",
    "\n",
    "1) det(A) = pivoting을 더 이상 할 수 없을 때, 모든 pivot들의 곱이다.\n",
    "\n",
    "- A = LDU 즉, det(A) = det(L)det(D)det(U)"
   ]
  },
  {
   "cell_type": "markdown",
   "metadata": {},
   "source": [
    "pivoting이 필요한 경우\n",
    "\n",
    "2) PA=LDU\n",
    "\n",
    "- $ det(P) = \\pm 1$ 즉, $det(A) = \\pm(\\prod_{i=1}^nP_i)$"
   ]
  },
  {
   "cell_type": "markdown",
   "metadata": {},
   "source": [
    "행렬의 determinant를 구하는 새로운 공식에 접근하기 위해 아래 3개의 성질을 알아야한다."
   ]
  },
  {
   "cell_type": "markdown",
   "metadata": {},
   "source": [
    "1) $det(A)$는 첫행에 항상 linearly dependent 하다.\n",
    "\n",
    "2) zero colum의 행렬식은 0이다.($det(A)=0$)\n",
    "\n",
    "3) $det(A)$는 어떠한 행에도 서로 linearly dependet 하다.\n",
    "\n",
    "    - 어떠한 행도 첫번째 행과 바꿀수 있기 때문이다."
   ]
  },
  {
   "cell_type": "markdown",
   "metadata": {},
   "source": [
    "### Determinant Applications"
   ]
  },
  {
   "cell_type": "markdown",
   "metadata": {},
   "source": [
    "다음과 같은 cofactor matrix가 있다 하자."
   ]
  },
  {
   "cell_type": "markdown",
   "metadata": {},
   "source": [
    "$$C = \\begin{bmatrix} C_{11} & C_{12} & C_{13} \\cdots \\\\ C_{21} & C_{22} & C_{23} \\cdots \\\\ \\vdots & \\vdots & \\vdots \\\\ C_{n1} & C_{n2} & C_{n3} \\cdots  \\end{bmatrix}$$"
   ]
  },
  {
   "cell_type": "markdown",
   "metadata": {},
   "source": [
    "cofactor matrix 을 이용하여 역행렬를 구하는 식이 다음과 같다."
   ]
  },
  {
   "cell_type": "markdown",
   "metadata": {},
   "source": [
    "$$A^{-1} = {C^T \\over det(A)}$$"
   ]
  },
  {
   "cell_type": "markdown",
   "metadata": {},
   "source": [
    "이 식을 다음과 같이 바꿔줄 수 있다."
   ]
  },
  {
   "cell_type": "markdown",
   "metadata": {},
   "source": [
    "$$det(A)I = AC^T$$"
   ]
  },
  {
   "cell_type": "markdown",
   "metadata": {},
   "source": [
    "다음과 같은 식은 Cramer's rule에 의해서 B를 구할 수 있다.\n",
    "\n",
    "$$Ax=b$$"
   ]
  },
  {
   "cell_type": "markdown",
   "metadata": {},
   "source": [
    "$$X=\\begin{bmatrix} x_1 \\\\ x_2 \\\\ \\vdots \\\\ x_n \\end{bmatrix} = A^{-1}b = A^{-1}\\begin{bmatrix} b_1 \\\\ b_2 \\\\ \\vdots \\\\ b_n \\end{bmatrix}$$"
   ]
  },
  {
   "cell_type": "markdown",
   "metadata": {},
   "source": [
    "$$x_i={detB_i \\over detA} \\\\ B_i= \\begin{bmatrix} 　 & 　&　&　&　&　\\\\ a_1 & a_2 & \\cdots &  b & a_{i+1} & a_n \\\\ 　&　&　&　&　&　 \\end{bmatrix}$$"
   ]
  },
  {
   "cell_type": "code",
   "execution_count": null,
   "metadata": {},
   "outputs": [],
   "source": []
  }
 ],
 "metadata": {
  "kernelspec": {
   "display_name": "Python 3",
   "language": "python",
   "name": "python3"
  },
  "language_info": {
   "codemirror_mode": {
    "name": "ipython",
    "version": 3
   },
   "file_extension": ".py",
   "mimetype": "text/x-python",
   "name": "python",
   "nbconvert_exporter": "python",
   "pygments_lexer": "ipython3",
   "version": "3.7.10"
  }
 },
 "nbformat": 4,
 "nbformat_minor": 4
}
